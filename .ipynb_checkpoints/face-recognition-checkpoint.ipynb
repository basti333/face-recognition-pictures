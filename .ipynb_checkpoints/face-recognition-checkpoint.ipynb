{
 "cells": [
  {
   "cell_type": "markdown",
   "metadata": {},
   "source": [
    "## Face Recognition mit OpenCV"
   ]
  },
  {
   "cell_type": "code",
   "execution_count": 1,
   "metadata": {},
   "outputs": [],
   "source": [
    "#Imports\n",
    "import cv2\n",
    "import os\n",
    "import numpy as np"
   ]
  },
  {
   "cell_type": "code",
   "execution_count": 2,
   "metadata": {},
   "outputs": [],
   "source": [
    "#Liste der Namen von Personen, deren Gesichter erkannt werden sollen \n",
    "#Wir verwenden hier das 5 Celebrity Faces Dataset\n",
    "subjects = [\"\", \"Ben Affleck\", \"Elton John\", \"Jerry Seinfeld\", \"Madonna\", \"Mindy Kaling\"]"
   ]
  },
  {
   "cell_type": "markdown",
   "metadata": {},
   "source": [
    "### Funktion für die Gesichtserkennung"
   ]
  },
  {
   "cell_type": "code",
   "execution_count": 3,
   "metadata": {},
   "outputs": [],
   "source": [
    "def detect_face(img):\n",
    "    #Damit dieser Classifier funktioniert, muss das Bild in grayscale umgewandelt werden\n",
    "    gray = cv2.cvtColor(img, cv2.COLOR_BGR2GRAY)     \n",
    "    face_cascade = cv2.CascadeClassifier('opencv-files/lbpcascade_frontalface.xml')\n",
    "    faces = face_cascade.detectMultiScale(gray, scaleFactor=1.2, minNeighbors=5)\n",
    "    \n",
    "    if (len(faces) == 0):\n",
    "        return None, None\n",
    "    \n",
    "    #Den Bereich in dem das Gesicht zu sehen ist extrahieren\n",
    "    (x, y, w, h) = faces[0]\n",
    "    \n",
    "    #Return das Gesicht in grayscale\n",
    "    return gray[y:y+w, x:x+h], faces[0]"
   ]
  },
  {
   "cell_type": "markdown",
   "metadata": {},
   "source": [
    "### Funktion zum Aufbereiten der Trainingsdaten"
   ]
  },
  {
   "cell_type": "code",
   "execution_count": 4,
   "metadata": {},
   "outputs": [],
   "source": [
    "def prepare_training_data(data_folder_path):\n",
    "    dirs = os.listdir(data_folder_path)    \n",
    "    faces = []\n",
    "    labels = []  \n",
    "    \n",
    "    #Pfad der Ordner und Bilder definieren\n",
    "    for dir_name in dirs:\n",
    "        if not dir_name.startswith(\"s\"):\n",
    "            continue\n",
    "            \n",
    "        label = int(dir_name.replace(\"s\", \"\"))\n",
    "        subject_dir_path = data_folder_path + \"/\" + dir_name  \n",
    "        subject_images_names = os.listdir(subject_dir_path)\n",
    "\n",
    "        #Das Gesicht erkennen und zu der Liste an Gesichtern hinzufügen\n",
    "        for image_name in subject_images_names:\n",
    "\n",
    "            image_path = subject_dir_path + \"/\" + image_name\n",
    "            image = cv2.imread(image_path)\n",
    "            \n",
    "            #Trainingsbilder anzeigen\n",
    "            cv2.imshow(\"Training\", cv2.resize(image, (300,300)))\n",
    "            cv2.waitKey(100)\n",
    "            \n",
    "            #Gesicht in den Bildern erkennen \n",
    "            face, rect = detect_face(image)           \n",
    "          \n",
    "            if face is not None:\n",
    "                faces.append(face)\n",
    "                labels.append(label)\n",
    "            \n",
    "    cv2.destroyAllWindows()\n",
    "    cv2.waitKey(1)\n",
    "    cv2.destroyAllWindows()\n",
    "    \n",
    "    return faces, labels\n"
   ]
  },
  {
   "cell_type": "markdown",
   "metadata": {},
   "source": [
    "### Funktionen zur Ausgabe der Predictions"
   ]
  },
  {
   "cell_type": "code",
   "execution_count": 5,
   "metadata": {},
   "outputs": [],
   "source": [
    "w=0\n",
    "h=0\n",
    "\n",
    "def draw_rectangle(img, rect):\n",
    "    (x, y, w, h) = rect\n",
    "    cv2.rectangle(img, (x, y), (x+w, y+h), (0, 255, 0), 2)\n",
    "    \n",
    "def draw_text(img, text, x, y,confidence):\n",
    "    cv2.putText(img, text, (x, y-5), cv2.FONT_HERSHEY_PLAIN, 2, (255, 0, 0), int(2))\n",
    "    cv2.putText(img, str(confidence), (x+w,y+h+170), cv2.FONT_HERSHEY_PLAIN, 2, (255,0,0), 2)\n",
    "\n",
    "def predict(test_img):\n",
    "    face, rect = detect_face(test_img)\n",
    "    label, confidence = face_recognizer.predict(face)\n",
    "    \n",
    "    # Confidence \n",
    "    if (confidence < 100):\n",
    "        label = subjects[label]\n",
    "        confidence = \"  {0}%\".format((round(confidence)))\n",
    "    else:\n",
    "        label = subjects[label]\n",
    "        confidence = \"  {0}%\".format(abs(round(100 - confidence)))\n",
    "        \n",
    "    # Rechteck um das Gesicht, Name und Confidence anzeigen \n",
    "    draw_text(test_img, label, rect[0], rect[1]-5, confidence)\n",
    "    draw_rectangle(test_img, rect)    \n",
    "    return test_img"
   ]
  },
  {
   "cell_type": "markdown",
   "metadata": {},
   "source": [
    "### Training"
   ]
  },
  {
   "cell_type": "code",
   "execution_count": 6,
   "metadata": {},
   "outputs": [],
   "source": [
    "faces, labels = prepare_training_data(\"training-data\")\n",
    "\n",
    "# Klassifikation mittels Local Binary Patterns Histograms recognizer\n",
    "face_recognizer = cv2.face.LBPHFaceRecognizer_create()\n",
    "\n",
    "face_recognizer.train(faces, np.array(labels))"
   ]
  },
  {
   "cell_type": "markdown",
   "metadata": {},
   "source": [
    "### Prediction"
   ]
  },
  {
   "cell_type": "code",
   "execution_count": null,
   "metadata": {},
   "outputs": [],
   "source": [
    "#Testbilder laden\n",
    "test_img1 = cv2.imread(\"test-data/test1.jpg\")\n",
    "test_img2 = cv2.imread(\"test-data/test2.jpg\")\n",
    "test_img3 = cv2.imread(\"test-data/test3.jpg\")\n",
    "test_img4 = cv2.imread(\"test-data/test4.jpg\")\n",
    "test_img5 = cv2.imread(\"test-data/test5.jpg\")\n",
    "\n",
    "#Prediction machen\n",
    "predicted_img1 = predict(test_img1)\n",
    "predicted_img2 = predict(test_img2)\n",
    "predicted_img3 = predict(test_img3)\n",
    "predicted_img4 = predict(test_img4)\n",
    "predicted_img5 = predict(test_img5)\n",
    "\n",
    "#Bilder + Prediction anzeigen\n",
    "cv2.imshow(\"Prediction1\", cv2.resize(predicted_img1, (300, 300)))\n",
    "cv2.imshow(\"Prediction2\", cv2.resize(predicted_img2, (300, 300)))\n",
    "cv2.imshow(\"Prediction3\", cv2.resize(predicted_img3, (300, 300)))\n",
    "cv2.imshow(\"Prediction4\", cv2.resize(predicted_img4, (300, 300)))\n",
    "cv2.imshow(\"Prediction5\", cv2.resize(predicted_img5, (300, 300)))\n",
    "\n",
    "cv2.waitKey(0)\n",
    "cv2.destroyAllWindows()\n",
    "cv2.waitKey(1)\n",
    "cv2.destroyAllWindows()"
   ]
  }
 ],
 "metadata": {
  "kernelspec": {
   "display_name": "Python 3",
   "language": "python",
   "name": "python3"
  },
  "language_info": {
   "codemirror_mode": {
    "name": "ipython",
    "version": 3
   },
   "file_extension": ".py",
   "mimetype": "text/x-python",
   "name": "python",
   "nbconvert_exporter": "python",
   "pygments_lexer": "ipython3",
   "version": "3.7.7"
  }
 },
 "nbformat": 4,
 "nbformat_minor": 4
}
